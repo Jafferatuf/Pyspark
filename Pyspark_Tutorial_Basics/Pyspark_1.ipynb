{
 "cells": [
  {
   "cell_type": "code",
   "execution_count": 6,
   "id": "9f8c8dda",
   "metadata": {},
   "outputs": [],
   "source": [
    "import pyspark"
   ]
  },
  {
   "cell_type": "code",
   "execution_count": 7,
   "id": "70ad496c",
   "metadata": {},
   "outputs": [],
   "source": [
    "from pyspark.sql import SparkSession"
   ]
  },
  {
   "cell_type": "code",
   "execution_count": 5,
   "id": "c733a31a",
   "metadata": {},
   "outputs": [
    {
     "name": "stderr",
     "output_type": "stream",
     "text": [
      "Setting default log level to \"WARN\".\n",
      "To adjust logging level use sc.setLogLevel(newLevel). For SparkR, use setLogLevel(newLevel).\n",
      "23/11/21 12:33:51 WARN NativeCodeLoader: Unable to load native-hadoop library for your platform... using builtin-java classes where applicable\n"
     ]
    }
   ],
   "source": [
    "spark = SparkSession.builder.appName('Dataframe').getOrCreate()"
   ]
  },
  {
   "cell_type": "code",
   "execution_count": 8,
   "id": "f357fe11",
   "metadata": {},
   "outputs": [
    {
     "data": {
      "text/html": [
       "\n",
       "            <div>\n",
       "                <p><b>SparkSession - in-memory</b></p>\n",
       "                \n",
       "        <div>\n",
       "            <p><b>SparkContext</b></p>\n",
       "\n",
       "            <p><a href=\"http://172.16.5.76:4040\">Spark UI</a></p>\n",
       "\n",
       "            <dl>\n",
       "              <dt>Version</dt>\n",
       "                <dd><code>v3.4.1</code></dd>\n",
       "              <dt>Master</dt>\n",
       "                <dd><code>local[*]</code></dd>\n",
       "              <dt>AppName</dt>\n",
       "                <dd><code>Dataframe</code></dd>\n",
       "            </dl>\n",
       "        </div>\n",
       "        \n",
       "            </div>\n",
       "        "
      ],
      "text/plain": [
       "<pyspark.sql.session.SparkSession at 0x11788e810>"
      ]
     },
     "execution_count": 8,
     "metadata": {},
     "output_type": "execute_result"
    }
   ],
   "source": [
    "spark"
   ]
  },
  {
   "cell_type": "code",
   "execution_count": 19,
   "id": "6b27639f",
   "metadata": {},
   "outputs": [],
   "source": [
    "#read the dataset \n",
    "df_pyspark=spark.read.option('header','true').csv('insurance_data.csv',inferSchema=True)"
   ]
  },
  {
   "cell_type": "code",
   "execution_count": 20,
   "id": "d0ea45e3",
   "metadata": {},
   "outputs": [
    {
     "name": "stdout",
     "output_type": "stream",
     "text": [
      "root\n",
      " |-- age: integer (nullable = true)\n",
      " |-- affordibility: integer (nullable = true)\n",
      " |-- bought_insurance: integer (nullable = true)\n",
      "\n"
     ]
    }
   ],
   "source": [
    "# Check the schema \n",
    "df_pyspark.printSchema()"
   ]
  },
  {
   "cell_type": "code",
   "execution_count": null,
   "id": "7ffb2c79",
   "metadata": {},
   "outputs": [],
   "source": []
  },
  {
   "cell_type": "code",
   "execution_count": 21,
   "id": "a0fa60a2",
   "metadata": {},
   "outputs": [],
   "source": [
    "df_pyspark = spark.read.csv('insurance_data.csv',inferSchema=True,header=True)"
   ]
  },
  {
   "cell_type": "code",
   "execution_count": 23,
   "id": "99e5b52c",
   "metadata": {},
   "outputs": [
    {
     "name": "stdout",
     "output_type": "stream",
     "text": [
      "root\n",
      " |-- age: integer (nullable = true)\n",
      " |-- affordibility: integer (nullable = true)\n",
      " |-- bought_insurance: integer (nullable = true)\n",
      "\n"
     ]
    }
   ],
   "source": [
    "df_pyspark.printSchema()"
   ]
  },
  {
   "cell_type": "code",
   "execution_count": 24,
   "id": "185bd08d",
   "metadata": {},
   "outputs": [
    {
     "data": {
      "text/plain": [
       "pyspark.sql.dataframe.DataFrame"
      ]
     },
     "execution_count": 24,
     "metadata": {},
     "output_type": "execute_result"
    }
   ],
   "source": [
    "type(df_pyspark)"
   ]
  },
  {
   "cell_type": "code",
   "execution_count": 26,
   "id": "ab15c3bf",
   "metadata": {},
   "outputs": [
    {
     "data": {
      "text/plain": [
       "[Row(age=22, affordibility=1, bought_insurance=0),\n",
       " Row(age=25, affordibility=0, bought_insurance=0),\n",
       " Row(age=47, affordibility=1, bought_insurance=1)]"
      ]
     },
     "execution_count": 26,
     "metadata": {},
     "output_type": "execute_result"
    }
   ],
   "source": [
    "df_pyspark.head(3)"
   ]
  },
  {
   "cell_type": "code",
   "execution_count": 29,
   "id": "07043117",
   "metadata": {},
   "outputs": [
    {
     "name": "stdout",
     "output_type": "stream",
     "text": [
      "+---+----------------+\n",
      "|age|bought_insurance|\n",
      "+---+----------------+\n",
      "| 22|               0|\n",
      "| 25|               0|\n",
      "| 47|               1|\n",
      "| 52|               0|\n",
      "| 46|               1|\n",
      "| 56|               1|\n",
      "| 55|               0|\n",
      "| 60|               1|\n",
      "| 62|               1|\n",
      "| 61|               1|\n",
      "| 18|               0|\n",
      "| 28|               0|\n",
      "| 27|               0|\n",
      "| 29|               0|\n",
      "| 49|               1|\n",
      "| 55|               1|\n",
      "| 25|               1|\n",
      "| 58|               1|\n",
      "| 19|               0|\n",
      "| 18|               0|\n",
      "+---+----------------+\n",
      "only showing top 20 rows\n",
      "\n"
     ]
    }
   ],
   "source": [
    "df_pyspark.select(['age','bought_insurance']).show()"
   ]
  },
  {
   "cell_type": "code",
   "execution_count": 30,
   "id": "774e6c4d",
   "metadata": {},
   "outputs": [
    {
     "data": {
      "text/plain": [
       "[('age', 'int'), ('affordibility', 'int'), ('bought_insurance', 'int')]"
      ]
     },
     "execution_count": 30,
     "metadata": {},
     "output_type": "execute_result"
    }
   ],
   "source": [
    "df_pyspark.dtypes"
   ]
  },
  {
   "cell_type": "code",
   "execution_count": 33,
   "id": "309e67fc",
   "metadata": {},
   "outputs": [
    {
     "name": "stdout",
     "output_type": "stream",
     "text": [
      "+-------+------------------+------------------+------------------+\n",
      "|summary|               age|     affordibility|  bought_insurance|\n",
      "+-------+------------------+------------------+------------------+\n",
      "|  count|                28|                28|                28|\n",
      "|   mean|39.892857142857146|0.6785714285714286|               0.5|\n",
      "| stddev|15.497524977340108|0.4755948656056709|0.5091750772173156|\n",
      "|    min|                18|                 0|                 0|\n",
      "|    max|                62|                 1|                 1|\n",
      "+-------+------------------+------------------+------------------+\n",
      "\n"
     ]
    }
   ],
   "source": [
    "df_pyspark.describe().show()"
   ]
  },
  {
   "cell_type": "code",
   "execution_count": 37,
   "id": "7cc16ecc",
   "metadata": {},
   "outputs": [],
   "source": [
    "# Adding Columns \n",
    "\n",
    "df_pyspark=df_pyspark.withColumn('Age after 2 years',df_pyspark['age']+2)"
   ]
  },
  {
   "cell_type": "code",
   "execution_count": 38,
   "id": "40500a3b",
   "metadata": {},
   "outputs": [
    {
     "name": "stdout",
     "output_type": "stream",
     "text": [
      "+---+-------------+----------------+-----------------+\n",
      "|age|affordibility|bought_insurance|Age after 2 years|\n",
      "+---+-------------+----------------+-----------------+\n",
      "| 22|            1|               0|               24|\n",
      "| 25|            0|               0|               27|\n",
      "| 47|            1|               1|               49|\n",
      "| 52|            0|               0|               54|\n",
      "| 46|            1|               1|               48|\n",
      "| 56|            1|               1|               58|\n",
      "| 55|            0|               0|               57|\n",
      "| 60|            0|               1|               62|\n",
      "| 62|            1|               1|               64|\n",
      "| 61|            1|               1|               63|\n",
      "| 18|            1|               0|               20|\n",
      "| 28|            1|               0|               30|\n",
      "| 27|            0|               0|               29|\n",
      "| 29|            0|               0|               31|\n",
      "| 49|            1|               1|               51|\n",
      "| 55|            1|               1|               57|\n",
      "| 25|            0|               1|               27|\n",
      "| 58|            1|               1|               60|\n",
      "| 19|            0|               0|               21|\n",
      "| 18|            1|               0|               20|\n",
      "+---+-------------+----------------+-----------------+\n",
      "only showing top 20 rows\n",
      "\n"
     ]
    }
   ],
   "source": [
    "df_pyspark.show()"
   ]
  },
  {
   "cell_type": "code",
   "execution_count": 41,
   "id": "d1a62409",
   "metadata": {},
   "outputs": [],
   "source": [
    "# Dropping the columns \n",
    "\n",
    "df_pyspark=df_pyspark.drop('Age after 2 years')"
   ]
  },
  {
   "cell_type": "code",
   "execution_count": 43,
   "id": "d8713b9b",
   "metadata": {},
   "outputs": [
    {
     "name": "stdout",
     "output_type": "stream",
     "text": [
      "+---+-------------+----------------+\n",
      "|age|affordibility|bought_insurance|\n",
      "+---+-------------+----------------+\n",
      "| 22|            1|               0|\n",
      "| 25|            0|               0|\n",
      "| 47|            1|               1|\n",
      "| 52|            0|               0|\n",
      "| 46|            1|               1|\n",
      "| 56|            1|               1|\n",
      "| 55|            0|               0|\n",
      "| 60|            0|               1|\n",
      "| 62|            1|               1|\n",
      "| 61|            1|               1|\n",
      "| 18|            1|               0|\n",
      "| 28|            1|               0|\n",
      "| 27|            0|               0|\n",
      "| 29|            0|               0|\n",
      "| 49|            1|               1|\n",
      "| 55|            1|               1|\n",
      "| 25|            0|               1|\n",
      "| 58|            1|               1|\n",
      "| 19|            0|               0|\n",
      "| 18|            1|               0|\n",
      "+---+-------------+----------------+\n",
      "only showing top 20 rows\n",
      "\n"
     ]
    }
   ],
   "source": [
    "df_pyspark.show()"
   ]
  },
  {
   "cell_type": "code",
   "execution_count": null,
   "id": "855c656f",
   "metadata": {},
   "outputs": [],
   "source": []
  },
  {
   "cell_type": "code",
   "execution_count": null,
   "id": "e910934f",
   "metadata": {},
   "outputs": [],
   "source": []
  },
  {
   "cell_type": "code",
   "execution_count": null,
   "id": "de228ed3",
   "metadata": {},
   "outputs": [],
   "source": []
  },
  {
   "cell_type": "code",
   "execution_count": null,
   "id": "df06c37e",
   "metadata": {},
   "outputs": [],
   "source": []
  }
 ],
 "metadata": {
  "kernelspec": {
   "display_name": "Python 3 (ipykernel)",
   "language": "python",
   "name": "python3"
  },
  "language_info": {
   "codemirror_mode": {
    "name": "ipython",
    "version": 3
   },
   "file_extension": ".py",
   "mimetype": "text/x-python",
   "name": "python",
   "nbconvert_exporter": "python",
   "pygments_lexer": "ipython3",
   "version": "3.11.5"
  }
 },
 "nbformat": 4,
 "nbformat_minor": 5
}
